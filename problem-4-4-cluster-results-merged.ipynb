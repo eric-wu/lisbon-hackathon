{
 "cells": [
  {
   "cell_type": "code",
   "execution_count": 18,
   "metadata": {
    "collapsed": true
   },
   "outputs": [],
   "source": [
    "import pandas as pd"
   ]
  },
  {
   "cell_type": "code",
   "execution_count": 19,
   "metadata": {
    "collapsed": true
   },
   "outputs": [],
   "source": [
    "df_3 = pd.read_csv('data/dhsipums_kmeans_97_15_3.csv')\n",
    "df_4 = pd.read_csv('data/dhsipums_kmeans_97_15_4.csv')\n",
    "df_3_75_19 = pd.read_csv('data/dhsipums_kmeans_75_19_3.csv')"
   ]
  },
  {
   "cell_type": "code",
   "execution_count": 20,
   "metadata": {
    "collapsed": true
   },
   "outputs": [],
   "source": [
    "df_meta = pd.read_csv('data/dhsipums_macro_meta.csv')\n",
    "df_data = pd.read_csv('data/dhsipums_macro_data.csv')\n",
    "df_all = pd.merge(df_meta, df_data, on='metaid')"
   ]
  },
  {
   "cell_type": "code",
   "execution_count": 21,
   "metadata": {
    "collapsed": false
   },
   "outputs": [],
   "source": [
    "df_3 = pd.merge(df_all, df_3, on='metaid')\n",
    "df_4 = pd.merge(df_all, df_4, on='metaid')\n",
    "df_3_75_19 = pd.merge(df_all, df_3_75_19, on='metaid')"
   ]
  },
  {
   "cell_type": "code",
   "execution_count": 22,
   "metadata": {
    "collapsed": true
   },
   "outputs": [],
   "source": [
    "df_3.to_csv('data/dhsipums_kmeans_97_15_3_merged.csv', index=False)\n",
    "df_4.to_csv('data/dhsipums_kmeans_97_15_4_merged.csv', index=False)\n",
    "df_3_75_19.to_csv('data/dhsipums_kmeans_75_19_3_merged.csv', index=False)"
   ]
  },
  {
   "cell_type": "code",
   "execution_count": 23,
   "metadata": {
    "collapsed": false
   },
   "outputs": [
    {
     "name": "stdout",
     "output_type": "stream",
     "text": [
      "Welcome, Eric Yi Wu!\n",
      "\n"
     ]
    }
   ],
   "source": [
    "import synapseclient\n",
    "from synapseclient import File\n",
    "\n",
    "syn = synapseclient.Synapse()\n",
    "syn.login()\n",
    "folder = syn.get('syn6135634')"
   ]
  },
  {
   "cell_type": "code",
   "execution_count": 24,
   "metadata": {
    "collapsed": false
   },
   "outputs": [
    {
     "name": "stdout",
     "output_type": "stream",
     "text": [
      "\n",
      "##################################################\n",
      " Uploading file to Synapse storage \n",
      "##################################################\n",
      "Uploading [####################]100.00%     36.6kB/36.6kB dhsipums_kmeans_97_15_3_merged.csv Done...\n",
      "    \n",
      "##################################################\n",
      " Uploading file to Synapse storage \n",
      "##################################################\n",
      "Uploading [####################]100.00%     36.6kB/36.6kB dhsipums_kmeans_97_15_4_merged.csv Done...\n",
      "    \n",
      "##################################################\n",
      " Uploading file to Synapse storage \n",
      "##################################################\n",
      "Uploading [####################]100.00%     29.3kB/29.3kB dhsipums_kmeans_75_19_3_merged.csv Done...\n",
      "    "
     ]
    },
    {
     "data": {
      "text/plain": [
       "File(createdBy='313799', versionNumber=1, annotations='/repo/v1/entity/syn6135862/annotations', concreteType='org.sagebionetworks.repo.model.FileEntity', createdOn='2016-06-07T13:26:39.666Z', contentType=None, modifiedBy='313799', externalURL=None, versionUrl='/repo/v1/entity/syn6135862/version/1', files=['dhsipums_kmeans_75_19_3_merged.csv'], modifiedOn='2016-06-07T13:26:39.666Z', parentId='syn6135634', path='data/dhsipums_kmeans_75_19_3_merged.csv', dataFileHandleId='9405246', id='syn6135862', cacheDir='data', synapseStore=True, entityType='org.sagebionetworks.repo.model.FileEntity', fileSize=None, uri='/repo/v1/entity/syn6135862', versionLabel='1', accessControlList='/repo/v1/entity/syn6135862/acl', name='dhsipums_kmeans_75_19_3_merged.csv', etag='b80e8f40-6081-4b2f-a685-60c2ce1e88e5', md5=None, versions='/repo/v1/entity/syn6135862/version')"
      ]
     },
     "execution_count": 24,
     "metadata": {},
     "output_type": "execute_result"
    }
   ],
   "source": [
    "syn.store(File('data/dhsipums_kmeans_97_15_3_merged.csv', parent=folder))\n",
    "syn.store(File('data/dhsipums_kmeans_97_15_4_merged.csv', parent=folder))\n",
    "syn.store(File('data/dhsipums_kmeans_75_19_3_merged.csv', parent=folder))"
   ]
  },
  {
   "cell_type": "code",
   "execution_count": null,
   "metadata": {
    "collapsed": true
   },
   "outputs": [],
   "source": []
  }
 ],
 "metadata": {
  "kernelspec": {
   "display_name": "Python 3",
   "language": "python",
   "name": "python3"
  },
  "language_info": {
   "codemirror_mode": {
    "name": "ipython",
    "version": 3
   },
   "file_extension": ".py",
   "mimetype": "text/x-python",
   "name": "python",
   "nbconvert_exporter": "python",
   "pygments_lexer": "ipython3",
   "version": "3.5.1"
  }
 },
 "nbformat": 4,
 "nbformat_minor": 0
}
