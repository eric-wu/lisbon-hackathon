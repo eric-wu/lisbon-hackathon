{
 "cells": [
  {
   "cell_type": "code",
   "execution_count": 1,
   "metadata": {
    "collapsed": true
   },
   "outputs": [],
   "source": [
    "import pandas as pd"
   ]
  },
  {
   "cell_type": "code",
   "execution_count": 2,
   "metadata": {
    "collapsed": true
   },
   "outputs": [],
   "source": [
    "df_meta = pd.read_csv('data/dhsipums_macro_meta.csv')\n",
    "df_data = pd.read_csv('data/dhsipums_macro_data.csv')"
   ]
  },
  {
   "cell_type": "code",
   "execution_count": 3,
   "metadata": {
    "collapsed": true
   },
   "outputs": [],
   "source": [
    "def dropna(df, thresh):\n",
    "    \"\"\"\n",
    "    Drop columns that has less than threshold samples\n",
    "    and then drop samples that has missing values\n",
    "    \"\"\"\n",
    "    return df.dropna(thresh=thresh, axis=1).dropna()"
   ]
  },
  {
   "cell_type": "code",
   "execution_count": 4,
   "metadata": {
    "collapsed": false
   },
   "outputs": [],
   "source": [
    "# Get the list of shrinked data frames\n",
    "shrinked = [dropna(df_data, thresh) for thresh in range(df_data.shape[0])]\n",
    "# Only keep the ones that has the minimum data in it\n",
    "shrinked = [df for df in shrinked if df.shape[0] > 1 and df.shape[1] > 3]"
   ]
  },
  {
   "cell_type": "code",
   "execution_count": 5,
   "metadata": {
    "collapsed": false
   },
   "outputs": [],
   "source": [
    "deduped = {}\n",
    "for df in shrinked:\n",
    "    cols = df.columns.tolist()\n",
    "    cols.sort()\n",
    "    cols_key = ''.join(cols)\n",
    "    deduped[cols_key] = df"
   ]
  },
  {
   "cell_type": "code",
   "execution_count": 6,
   "metadata": {
    "collapsed": false
   },
   "outputs": [
    {
     "name": "stdout",
     "output_type": "stream",
     "text": [
      "Welcome, Eric Yi Wu!\n",
      "\n"
     ]
    }
   ],
   "source": [
    "import synapseclient\n",
    "from synapseclient import File\n",
    "syn = synapseclient.Synapse()\n",
    "syn.login()"
   ]
  },
  {
   "cell_type": "code",
   "execution_count": 7,
   "metadata": {
    "collapsed": false
   },
   "outputs": [
    {
     "name": "stdout",
     "output_type": "stream",
     "text": [
      "\n",
      "##################################################\n",
      " Uploading file to Synapse storage \n",
      "##################################################\n",
      "Uploading [####################]100.00%     7.4kB/7.4kB dhsipums_data_reduced_90_17.csv Done...\n",
      "    \n",
      "##################################################\n",
      " Uploading file to Synapse storage \n",
      "##################################################\n",
      "Uploading [####################]100.00%     3.5kB/3.5kB dhsipums_data_reduced_136_6.csv Done...\n",
      "    \n",
      "##################################################\n",
      " Uploading file to Synapse storage \n",
      "##################################################\n",
      "Uploading [####################]100.00%     7.0kB/7.0kB dhsipums_data_reduced_105_14.csv Done...\n",
      "    \n",
      "##################################################\n",
      " Uploading file to Synapse storage \n",
      "##################################################\n",
      "Uploading [####################]100.00%     5.3kB/5.3kB dhsipums_data_reduced_131_9.csv Done...\n",
      "    \n",
      "##################################################\n",
      " Uploading file to Synapse storage \n",
      "##################################################\n",
      "Uploading [####################]100.00%     6.9kB/6.9kB dhsipums_data_reduced_75_19.csv Done...\n",
      "    \n",
      "##################################################\n",
      " Uploading file to Synapse storage \n",
      "##################################################\n",
      "Uploading [####################]100.00%     7.3kB/7.3kB dhsipums_data_reduced_94_16.csv Done...\n",
      "    \n",
      "##################################################\n",
      " Uploading file to Synapse storage \n",
      "##################################################\n",
      "Uploading [####################]100.00%     4.8kB/4.8kB dhsipums_data_reduced_134_8.csv Done...\n",
      "    \n",
      "##################################################\n",
      " Uploading file to Synapse storage \n",
      "##################################################\n",
      "Uploading [####################]100.00%     2.9kB/2.9kB dhsipums_data_reduced_136_5.csv Done...\n",
      "    \n",
      "##################################################\n",
      " Uploading file to Synapse storage \n",
      "##################################################\n",
      "Uploading [####################]100.00%     5.1kB/5.1kB dhsipums_data_reduced_50_20.csv Done...\n",
      "    \n",
      "##################################################\n",
      " Uploading file to Synapse storage \n",
      "##################################################\n",
      "Uploading [####################]100.00%     7.0kB/7.0kB dhsipums_data_reduced_97_15.csv Done...\n",
      "    \n",
      "##################################################\n",
      " Uploading file to Synapse storage \n",
      "##################################################\n",
      "Uploading [####################]100.00%     4.3kB/4.3kB dhsipums_data_reduced_39_21.csv Done...\n",
      "    \n",
      "##################################################\n",
      " Uploading file to Synapse storage \n",
      "##################################################\n",
      "Uploading [####################]100.00%     7.3kB/7.3kB dhsipums_data_reduced_130_12.csv Done...\n",
      "    \n",
      "##################################################\n",
      " Uploading file to Synapse storage \n",
      "##################################################\n",
      "Uploading [####################]100.00%     7.3kB/7.3kB dhsipums_data_reduced_118_13.csv Done...\n",
      "    "
     ]
    }
   ],
   "source": [
    "folder = syn.get('syn6135634')\n",
    "for df in deduped.values():\n",
    "    fout = 'data/dhsipums_data_reduced_' + str(df.shape[0]) + '_' + str(df.shape[1]) + '.csv'\n",
    "    df.to_csv(fout, index=False)\n",
    "    syn.store(File(fout, parent=folder))"
   ]
  },
  {
   "cell_type": "code",
   "execution_count": 12,
   "metadata": {
    "collapsed": false
   },
   "outputs": [
    {
     "name": "stdout",
     "output_type": "stream",
     "text": [
      "(75, 19)\n",
      "(50, 20)\n",
      "(39, 21)\n"
     ]
    }
   ],
   "source": [
    "# Which of the reduced data set has the stunt features\n",
    "stunts = ['Anthro_BMI_F_Mean', 'Anthro_Stunt_Child_Pct', 'Anthro_StuntSev_Child_Pct']\n",
    "for dfkey in deduped.keys():\n",
    "    for col in deduped[dfkey].columns:\n",
    "        if col == 'Anthro_BMI_F_Mean' or col == 'Anthro_Stunt_Child_Pct' or col == 'Anthro_StuntSev_Child_Pct':\n",
    "            print(deduped[dfkey].shape)"
   ]
  },
  {
   "cell_type": "code",
   "execution_count": null,
   "metadata": {
    "collapsed": true
   },
   "outputs": [],
   "source": []
  }
 ],
 "metadata": {
  "kernelspec": {
   "display_name": "Python 3",
   "language": "python",
   "name": "python3"
  },
  "language_info": {
   "codemirror_mode": {
    "name": "ipython",
    "version": 3
   },
   "file_extension": ".py",
   "mimetype": "text/x-python",
   "name": "python",
   "nbconvert_exporter": "python",
   "pygments_lexer": "ipython3",
   "version": "3.5.1"
  }
 },
 "nbformat": 4,
 "nbformat_minor": 0
}
