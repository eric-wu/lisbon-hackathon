{
 "cells": [
  {
   "cell_type": "code",
   "execution_count": 116,
   "metadata": {
    "collapsed": true
   },
   "outputs": [],
   "source": [
    "%matplotlib inline\n",
    "import matplotlib.pyplot as plt"
   ]
  },
  {
   "cell_type": "code",
   "execution_count": 117,
   "metadata": {
    "collapsed": true
   },
   "outputs": [],
   "source": [
    "import numpy as np\n",
    "import pandas as pd\n",
    "from pandas import DataFrame\n",
    "from pandas import Series"
   ]
  },
  {
   "cell_type": "code",
   "execution_count": 118,
   "metadata": {
    "collapsed": true
   },
   "outputs": [],
   "source": [
    "def kmeans_inertia(df, max_n_clusters):\n",
    "    from sklearn.preprocessing import StandardScaler\n",
    "    from sklearn.cluster import KMeans\n",
    "    metaid = df['metaid'].values\n",
    "    X = df.values[:,:-1]\n",
    "    ss = StandardScaler()\n",
    "    ss.fit_transform(X)\n",
    "    distortions =[]\n",
    "    for i in range(1, max_n_clusters):\n",
    "        km = KMeans(n_clusters=i,\n",
    "                    init='k-means++',\n",
    "                    n_init=10,\n",
    "                    max_iter=300)\n",
    "        km.fit(X)\n",
    "        distortions.append(km.inertia_)\n",
    "    return distortions"
   ]
  },
  {
   "cell_type": "code",
   "execution_count": 119,
   "metadata": {
    "collapsed": true
   },
   "outputs": [],
   "source": [
    "df = pd.read_csv('data/dhsipums_data_reduced_90_17.csv')\n",
    "distortions_90_17 = kmeans_inertia(df, 11)\n",
    "df = pd.read_csv('data/dhsipums_data_reduced_94_16.csv')\n",
    "distortions_94_16 = kmeans_inertia(df, 11)\n",
    "df = pd.read_csv('data/dhsipums_data_reduced_97_15.csv')\n",
    "distortions_97_15 = kmeans_inertia(df, 11)\n",
    "df = pd.read_csv('data/dhsipums_data_reduced_75_19.csv')\n",
    "distortions_75_19 = kmeans_inertia(df, 11)"
   ]
  },
  {
   "cell_type": "code",
   "execution_count": 120,
   "metadata": {
    "collapsed": false
   },
   "outputs": [
    {
     "data": {
      "image/png": "[encoded data removed]",
      "text/plain": [
       "<matplotlib.figure.Figure at 0x114895320>"
      ]
     },
     "metadata": {},
     "output_type": "display_data"
    }
   ],
   "source": [
    "plt.plot(range(1, 11), distortions_90_17, marker='.', color='b', label='90 x 17')\n",
    "plt.plot(range(1, 11), distortions_94_16, marker='o', color='g', label='94 x 16')\n",
    "plt.plot(range(1, 11), distortions_97_15, marker='x', color='r', label='97 x 15')\n",
    "plt.plot(range(1, 11), distortions_75_19, marker='+', color='m', label='75 x 19')\n",
    "plt.legend(loc='best')\n",
    "elbow_png = 'data/dhsipums_kmeans_elbow.png'\n",
    "plt.savefig(elbow_png)"
   ]
  },
  {
   "cell_type": "code",
   "execution_count": 121,
   "metadata": {
    "collapsed": false
   },
   "outputs": [
    {
     "name": "stdout",
     "output_type": "stream",
     "text": [
      "Welcome, Eric Yi Wu!\n",
      "\n"
     ]
    }
   ],
   "source": [
    "import synapseclient\n",
    "from synapseclient import File\n",
    "\n",
    "syn = synapseclient.Synapse()\n",
    "syn.login()\n",
    "folder = syn.get('syn6135634')"
   ]
  },
  {
   "cell_type": "code",
   "execution_count": 122,
   "metadata": {
    "collapsed": false
   },
   "outputs": [
    {
     "name": "stdout",
     "output_type": "stream",
     "text": [
      "\n",
      "##################################################\n",
      " Uploading file to Synapse storage \n",
      "##################################################\n",
      "Uploading [####################]100.00%     20.8kB/20.8kB dhsipums_kmeans_elbow.png Done...\n",
      "    "
     ]
    },
    {
     "data": {
      "text/plain": [
       "File(accessControlList='/repo/v1/entity/syn6135761/acl', path='data/dhsipums_kmeans_elbow.png', md5=None, versions='/repo/v1/entity/syn6135761/version', files=['dhsipums_kmeans_elbow.png'], cacheDir='data', name='dhsipums_kmeans_elbow.png', modifiedBy='313799', versionLabel='3', id='syn6135761', dataFileHandleId='9405208', externalURL=None, versionNumber=3, synapseStore=True, createdOn='2016-06-07T10:51:34.535Z', parentId='syn6135634', etag='c9d5bc59-8b72-4c2f-a852-5e74c959270b', versionUrl='/repo/v1/entity/syn6135761/version/3', contentType=None, fileSize=None, modifiedOn='2016-06-07T13:19:18.793Z', createdBy='313799', annotations='/repo/v1/entity/syn6135761/annotations', concreteType='org.sagebionetworks.repo.model.FileEntity', entityType='org.sagebionetworks.repo.model.FileEntity', uri='/repo/v1/entity/syn6135761')"
      ]
     },
     "execution_count": 122,
     "metadata": {},
     "output_type": "execute_result"
    }
   ],
   "source": [
    "syn.store(File(elbow_png, parent=folder))"
   ]
  },
  {
   "cell_type": "code",
   "execution_count": 123,
   "metadata": {
    "collapsed": true
   },
   "outputs": [],
   "source": [
    "def kmeans(df, n_clusters):\n",
    "    from sklearn.preprocessing import StandardScaler\n",
    "    from sklearn.cluster import KMeans\n",
    "    metaid = df['metaid'].values\n",
    "    X = df.values[:,:-1]\n",
    "    ss = StandardScaler()\n",
    "    ss.fit_transform(X)\n",
    "    km = KMeans(n_clusters=n_clusters)\n",
    "    km.fit(X)\n",
    "    results = DataFrame()\n",
    "    results['metaid'] = Series(metaid)\n",
    "    results['cluster'] = Series(km.labels_)\n",
    "    return results"
   ]
  },
  {
   "cell_type": "code",
   "execution_count": 124,
   "metadata": {
    "collapsed": true
   },
   "outputs": [],
   "source": [
    "def write_results(results, n_rows, n_cols, n_clusters, folder):\n",
    "    fout = 'data/dhsipums_kmeans_' + str(n_rows) + '_' + str(n_cols) + '_' + str(n_clusters) + '.csv'\n",
    "    results.to_csv(fout, index=False)\n",
    "    syn.store(File(fout, parent=folder))"
   ]
  },
  {
   "cell_type": "code",
   "execution_count": 125,
   "metadata": {
    "collapsed": false
   },
   "outputs": [
    {
     "name": "stdout",
     "output_type": "stream",
     "text": [
      "\n",
      "##################################################\n",
      " Uploading file to Synapse storage \n",
      "##################################################\n",
      "Uploading [####################]100.00%     512.0bytes/512.0bytes dhsipums_kmeans_90_17_3.csv Done...\n",
      "    \n",
      "##################################################\n",
      " Uploading file to Synapse storage \n",
      "##################################################\n",
      "Uploading [####################]100.00%     512.0bytes/512.0bytes dhsipums_kmeans_90_17_4.csv Done...\n",
      "    \n",
      "##################################################\n",
      " Uploading file to Synapse storage \n",
      "##################################################\n",
      "Uploading [####################]100.00%     512.0bytes/512.0bytes dhsipums_kmeans_90_17_5.csv Done...\n",
      "    "
     ]
    }
   ],
   "source": [
    "df = pd.read_csv('data/dhsipums_data_reduced_90_17.csv')\n",
    "results = kmeans(df, 3)\n",
    "write_results(results, 90, 17, 3, folder)\n",
    "results = kmeans(df, 4)\n",
    "write_results(results, 90, 17, 4, folder)\n",
    "results = kmeans(df, 5)\n",
    "write_results(results, 90, 17, 5, folder)"
   ]
  },
  {
   "cell_type": "code",
   "execution_count": 126,
   "metadata": {
    "collapsed": false
   },
   "outputs": [
    {
     "name": "stdout",
     "output_type": "stream",
     "text": [
      "\n",
      "##################################################\n",
      " Uploading file to Synapse storage \n",
      "##################################################\n",
      "Uploading [####################]100.00%     535.0bytes/535.0bytes dhsipums_kmeans_94_16_3.csv Done...\n",
      "    \n",
      "##################################################\n",
      " Uploading file to Synapse storage \n",
      "##################################################\n",
      "Uploading [####################]100.00%     535.0bytes/535.0bytes dhsipums_kmeans_94_16_4.csv Done...\n",
      "    \n",
      "##################################################\n",
      " Uploading file to Synapse storage \n",
      "##################################################\n",
      "Uploading [####################]100.00%     535.0bytes/535.0bytes dhsipums_kmeans_94_16_5.csv Done...\n",
      "    "
     ]
    }
   ],
   "source": [
    "df = pd.read_csv('data/dhsipums_data_reduced_94_16.csv')\n",
    "results = kmeans(df, 3)\n",
    "write_results(results, 94, 16, 3, folder)\n",
    "results = kmeans(df, 4)\n",
    "write_results(results, 94, 16, 4, folder)\n",
    "results = kmeans(df, 5)\n",
    "write_results(results, 94, 16, 5, folder)"
   ]
  },
  {
   "cell_type": "code",
   "execution_count": 127,
   "metadata": {
    "collapsed": false
   },
   "outputs": [
    {
     "name": "stdout",
     "output_type": "stream",
     "text": [
      "\n",
      "##################################################\n",
      " Uploading file to Synapse storage \n",
      "##################################################\n",
      "Uploading [####################]100.00%     552.0bytes/552.0bytes dhsipums_kmeans_97_15_3.csv Done...\n",
      "    \n",
      "##################################################\n",
      " Uploading file to Synapse storage \n",
      "##################################################\n",
      "Uploading [####################]100.00%     552.0bytes/552.0bytes dhsipums_kmeans_97_15_4.csv Done...\n",
      "    \n",
      "##################################################\n",
      " Uploading file to Synapse storage \n",
      "##################################################\n",
      "Uploading [####################]100.00%     552.0bytes/552.0bytes dhsipums_kmeans_97_15_5.csv Done...\n",
      "    "
     ]
    }
   ],
   "source": [
    "df = pd.read_csv('data/dhsipums_data_reduced_97_15.csv')\n",
    "results = kmeans(df, 3)\n",
    "write_results(results, 97, 15, 3, folder)\n",
    "results = kmeans(df, 4)\n",
    "write_results(results, 97, 15, 4, folder)\n",
    "results = kmeans(df, 5)\n",
    "write_results(results, 97, 15, 5, folder)"
   ]
  },
  {
   "cell_type": "code",
   "execution_count": 128,
   "metadata": {
    "collapsed": false
   },
   "outputs": [
    {
     "name": "stdout",
     "output_type": "stream",
     "text": [
      "\n",
      "##################################################\n",
      " Uploading file to Synapse storage \n",
      "##################################################\n",
      "Uploading [####################]100.00%     425.0bytes/425.0bytes dhsipums_kmeans_75_19_2.csv Done...\n",
      "    \n",
      "##################################################\n",
      " Uploading file to Synapse storage \n",
      "##################################################\n",
      "Uploading [####################]100.00%     425.0bytes/425.0bytes dhsipums_kmeans_75_19_3.csv Done...\n",
      "    \n",
      "##################################################\n",
      " Uploading file to Synapse storage \n",
      "##################################################\n",
      "Uploading [####################]100.00%     425.0bytes/425.0bytes dhsipums_kmeans_75_19_4.csv Done...\n",
      "    \n",
      "##################################################\n",
      " Uploading file to Synapse storage \n",
      "##################################################\n",
      "Uploading [####################]100.00%     425.0bytes/425.0bytes dhsipums_kmeans_75_19_5.csv Done...\n",
      "    \n",
      "##################################################\n",
      " Uploading file to Synapse storage \n",
      "##################################################\n",
      "Uploading [####################]100.00%     425.0bytes/425.0bytes dhsipums_kmeans_75_19_6.csv Done...\n",
      "    "
     ]
    }
   ],
   "source": [
    "df = pd.read_csv('data/dhsipums_data_reduced_75_19.csv')\n",
    "results = kmeans(df, 2)\n",
    "write_results(results, 75, 19, 2, folder)\n",
    "results = kmeans(df, 3)\n",
    "write_results(results, 75, 19, 3, folder)\n",
    "results = kmeans(df, 4)\n",
    "write_results(results, 75, 19, 4, folder)\n",
    "results = kmeans(df, 5)\n",
    "write_results(results, 75, 19, 5, folder)\n",
    "results = kmeans(df, 6)\n",
    "write_results(results, 75, 19, 6, folder)"
   ]
  },
  {
   "cell_type": "code",
   "execution_count": null,
   "metadata": {
    "collapsed": true
   },
   "outputs": [],
   "source": []
  }
 ],
 "metadata": {
  "kernelspec": {
   "display_name": "Python 3",
   "language": "python",
   "name": "python3"
  },
  "language_info": {
   "codemirror_mode": {
    "name": "ipython",
    "version": 3
   },
   "file_extension": ".py",
   "mimetype": "text/x-python",
   "name": "python",
   "nbconvert_exporter": "python",
   "pygments_lexer": "ipython3",
   "version": "3.5.1"
  }
 },
 "nbformat": 4,
 "nbformat_minor": 0
}
