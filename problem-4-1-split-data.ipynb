{
 "cells": [
  {
   "cell_type": "code",
   "execution_count": 36,
   "metadata": {
    "collapsed": true
   },
   "outputs": [],
   "source": [
    "import pandas as pd"
   ]
  },
  {
   "cell_type": "code",
   "execution_count": 37,
   "metadata": {
    "collapsed": true
   },
   "outputs": [],
   "source": [
    "df = pd.read_csv('data/dhsipums_macro.csv')"
   ]
  },
  {
   "cell_type": "code",
   "execution_count": 38,
   "metadata": {
    "collapsed": true
   },
   "outputs": [],
   "source": [
    "def split_by_columns(df, cols):\n",
    "    \"\"\"Split the data frame by columns\"\"\"\n",
    "    df_meta, df_data = df[cols], df.drop(cols, axis=1)\n",
    "    # Create a meta-id column to link the splited data frames\n",
    "    meta_id = [_ for _ in range(df_meta.shape[0])]\n",
    "    df_meta['metaid'] = meta_id\n",
    "    df_data['metaid'] = meta_id\n",
    "    return df_meta, df_data"
   ]
  },
  {
   "cell_type": "code",
   "execution_count": 39,
   "metadata": {
    "collapsed": false
   },
   "outputs": [
    {
     "name": "stderr",
     "output_type": "stream",
     "text": [
      "/Users/ericwu/Applications/miniconda3/envs/lisbon3/lib/python3.5/site-packages/ipykernel/__main__.py:6: SettingWithCopyWarning: \n",
      "A value is trying to be set on a copy of a slice from a DataFrame.\n",
      "Try using .loc[row_indexer,col_indexer] = value instead\n",
      "\n",
      "See the caveats in the documentation: http://pandas.pydata.org/pandas-docs/stable/indexing.html#indexing-view-versus-copy\n"
     ]
    }
   ],
   "source": [
    "meta_cols = ['Country', 'Year', 'Source', 'RMAPS', 'CTRYCD', 'Region']\n",
    "df_meta, df_data = split_by_columns(df, meta_cols)"
   ]
  },
  {
   "cell_type": "code",
   "execution_count": 40,
   "metadata": {
    "collapsed": false
   },
   "outputs": [
    {
     "name": "stdout",
     "output_type": "stream",
     "text": [
      "Index(['Country', 'Year', 'Source', 'RMAPS', 'CTRYCD', 'Region', 'metaid'], dtype='object')\n"
     ]
    }
   ],
   "source": [
    "print(df_meta.columns)"
   ]
  },
  {
   "cell_type": "code",
   "execution_count": 41,
   "metadata": {
    "collapsed": false
   },
   "outputs": [
    {
     "name": "stdout",
     "output_type": "stream",
     "text": [
      "Index(['HIV_Tot_Adult_Pct', 'HIV_Tot_1524_Pct', 'HIV_Tot_1524M_Pct',\n",
      "       'HIV_Tot_1524F_Pct', 'HIV_HeadART_Pct', 'HIV_HeardPxVert_Pct',\n",
      "       'Anthro_WAZ_Child_Mean', 'Anthro_Underwt_Child_Pct',\n",
      "       'Anthro_UnderwtSev_Child_Pct', 'Anthro_Stunt_Child_Pct',\n",
      "       ...\n",
      "       'Pop_Tot_4059_Count', 'Pop_Tot_4059_Pct', 'Pop_Tot_4059_PctF',\n",
      "       'Pop_Tot_4059_PctM', 'Pop_Tot_60_Count', 'Pop_Tot_60_Pct',\n",
      "       'Pop_Tot_60_PctF', 'Pop_Tot_60_PctM', 'Pop_Age_Median', 'metaid'],\n",
      "      dtype='object', length=174)\n"
     ]
    }
   ],
   "source": [
    "print(df_data.columns)"
   ]
  },
  {
   "cell_type": "code",
   "execution_count": 42,
   "metadata": {
    "collapsed": true
   },
   "outputs": [],
   "source": [
    "df_meta.to_csv('data/dhsipums_macro_meta.csv', index=False)\n",
    "df_data.to_csv('data/dhsipums_macro_data.csv', index=False)"
   ]
  },
  {
   "cell_type": "code",
   "execution_count": 43,
   "metadata": {
    "collapsed": false
   },
   "outputs": [
    {
     "name": "stdout",
     "output_type": "stream",
     "text": [
      "Welcome, Eric Yi Wu!\n",
      "\n"
     ]
    }
   ],
   "source": [
    "import synapseclient\n",
    "syn = synapseclient.Synapse()\n",
    "syn.login()"
   ]
  },
  {
   "cell_type": "code",
   "execution_count": 44,
   "metadata": {
    "collapsed": true
   },
   "outputs": [],
   "source": [
    "folder = syn.get('syn6135634')"
   ]
  },
  {
   "cell_type": "code",
   "execution_count": 45,
   "metadata": {
    "collapsed": false
   },
   "outputs": [
    {
     "name": "stdout",
     "output_type": "stream",
     "text": [
      "\n",
      "##################################################\n",
      " Uploading file to Synapse storage \n",
      "##################################################\n",
      "Uploading [####################]100.00%     9.5kB/9.5kB dhsipums_macro_meta.csv Done...\n",
      "    \n",
      "##################################################\n",
      " Uploading file to Synapse storage \n",
      "##################################################\n",
      "Uploading [####################]100.00%     89.0kB/89.0kB dhsipums_macro_data.csv Done...\n",
      "    "
     ]
    },
    {
     "data": {
      "text/plain": [
       "File(concreteType='org.sagebionetworks.repo.model.FileEntity', modifiedBy='313799', versions='/repo/v1/entity/syn6135651/version', path='data/dhsipums_macro_data.csv', cacheDir='data', entityType='org.sagebionetworks.repo.model.FileEntity', fileSize=None, externalURL=None, etag='e2befb22-4ab5-42ac-9e35-cacab0e8a032', annotations='/repo/v1/entity/syn6135651/annotations', synapseStore=True, createdBy='313799', versionLabel='3', contentType=None, name='dhsipums_macro_data.csv', uri='/repo/v1/entity/syn6135651', dataFileHandleId='9397137', versionUrl='/repo/v1/entity/syn6135651/version/3', files=['dhsipums_macro_data.csv'], md5=None, parentId='syn6135634', accessControlList='/repo/v1/entity/syn6135651/acl', createdOn='2016-06-07T06:24:42.866Z', id='syn6135651', modifiedOn='2016-06-07T06:48:20.751Z', versionNumber=3)"
      ]
     },
     "execution_count": 45,
     "metadata": {},
     "output_type": "execute_result"
    }
   ],
   "source": [
    "from synapseclient import File\n",
    "syn.store(File('data/dhsipums_macro_meta.csv', parent=folder))\n",
    "syn.store(File('data/dhsipums_macro_data.csv', parent=folder))"
   ]
  }
 ],
 "metadata": {
  "kernelspec": {
   "display_name": "Python 3",
   "language": "python",
   "name": "python3"
  },
  "language_info": {
   "codemirror_mode": {
    "name": "ipython",
    "version": 3
   },
   "file_extension": ".py",
   "mimetype": "text/x-python",
   "name": "python",
   "nbconvert_exporter": "python",
   "pygments_lexer": "ipython3",
   "version": "3.5.1"
  }
 },
 "nbformat": 4,
 "nbformat_minor": 0
}
