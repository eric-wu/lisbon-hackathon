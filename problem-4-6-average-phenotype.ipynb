{
 "cells": [
  {
   "cell_type": "code",
   "execution_count": 1,
   "metadata": {
    "collapsed": true
   },
   "outputs": [],
   "source": [
    "import pandas as pd"
   ]
  },
  {
   "cell_type": "code",
   "execution_count": 2,
   "metadata": {
    "collapsed": true
   },
   "outputs": [],
   "source": [
    "df = pd.read_csv('data/dhsipums_kmeans_75_19_3_merged.csv')"
   ]
  },
  {
   "cell_type": "code",
   "execution_count": 6,
   "metadata": {
    "collapsed": false
   },
   "outputs": [],
   "source": [
    "df_aggr = df.groupby(['cluster']).mean()"
   ]
  },
  {
   "cell_type": "code",
   "execution_count": 14,
   "metadata": {
    "collapsed": false
   },
   "outputs": [],
   "source": [
    "df_aggr.to_csv('data/75_19_3_average_phenotype.csv')"
   ]
  },
  {
   "cell_type": "code",
   "execution_count": 15,
   "metadata": {
    "collapsed": false
   },
   "outputs": [
    {
     "name": "stdout",
     "output_type": "stream",
     "text": [
      "Welcome, Eric Yi Wu!\n",
      "\n"
     ]
    }
   ],
   "source": [
    "import synapseclient\n",
    "from synapseclient import File\n",
    "\n",
    "syn = synapseclient.Synapse()\n",
    "syn.login()\n",
    "folder = syn.get('syn6135634')"
   ]
  },
  {
   "cell_type": "code",
   "execution_count": 16,
   "metadata": {
    "collapsed": false
   },
   "outputs": [
    {
     "name": "stdout",
     "output_type": "stream",
     "text": [
      "\n",
      "##################################################\n",
      " Uploading file to Synapse storage \n",
      "##################################################\n",
      "Uploading [####################]100.00%     7.3kB/7.3kB 75_19_3_average_phenotype.csv Done...\n",
      "    "
     ]
    },
    {
     "data": {
      "text/plain": [
       "File(cacheDir='data', entityType='org.sagebionetworks.repo.model.FileEntity', createdOn='2016-06-07T15:03:12.226Z', uri='/repo/v1/entity/syn6135946', versions='/repo/v1/entity/syn6135946/version', modifiedBy='313799', modifiedOn='2016-06-07T15:03:12.226Z', md5=None, accessControlList='/repo/v1/entity/syn6135946/acl', synapseStore=True, path='data/75_19_3_average_phenotype.csv', id='syn6135946', fileSize=None, contentType=None, etag='7fb2ed15-81f6-4793-b676-513f9da6a359', versionUrl='/repo/v1/entity/syn6135946/version/1', createdBy='313799', externalURL=None, dataFileHandleId='9405426', versionNumber=1, name='75_19_3_average_phenotype.csv', versionLabel='1', files=['75_19_3_average_phenotype.csv'], annotations='/repo/v1/entity/syn6135946/annotations', parentId='syn6135634', concreteType='org.sagebionetworks.repo.model.FileEntity')"
      ]
     },
     "execution_count": 16,
     "metadata": {},
     "output_type": "execute_result"
    }
   ],
   "source": [
    "syn.store(File('data/75_19_3_average_phenotype.csv', parent=folder))"
   ]
  },
  {
   "cell_type": "code",
   "execution_count": null,
   "metadata": {
    "collapsed": true
   },
   "outputs": [],
   "source": []
  }
 ],
 "metadata": {
  "kernelspec": {
   "display_name": "Python 3",
   "language": "python",
   "name": "python3"
  },
  "language_info": {
   "codemirror_mode": {
    "name": "ipython",
    "version": 3
   },
   "file_extension": ".py",
   "mimetype": "text/x-python",
   "name": "python",
   "nbconvert_exporter": "python",
   "pygments_lexer": "ipython3",
   "version": "3.5.1"
  }
 },
 "nbformat": 4,
 "nbformat_minor": 0
}
