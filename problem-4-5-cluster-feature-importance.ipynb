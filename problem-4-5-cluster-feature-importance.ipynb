{
 "cells": [
  {
   "cell_type": "code",
   "execution_count": 60,
   "metadata": {
    "collapsed": true
   },
   "outputs": [],
   "source": [
    "import pandas as pd"
   ]
  },
  {
   "cell_type": "code",
   "execution_count": 61,
   "metadata": {
    "collapsed": true
   },
   "outputs": [],
   "source": [
    "df_data = pd.read_csv('data/dhsipums_data_reduced_75_19.csv')\n",
    "df_clusters = pd.read_csv('data/dhsipums_kmeans_75_19_3.csv')\n",
    "df_merged = pd.merge(df_data, df_clusters, on='metaid')"
   ]
  },
  {
   "cell_type": "code",
   "execution_count": 62,
   "metadata": {
    "collapsed": true
   },
   "outputs": [],
   "source": [
    "X = df_merged.values[:,:-2]\n",
    "y = df_merged['cluster'].values"
   ]
  },
  {
   "cell_type": "code",
   "execution_count": 63,
   "metadata": {
    "collapsed": false
   },
   "outputs": [
    {
     "name": "stdout",
     "output_type": "stream",
     "text": [
      "(75, 18)\n",
      "75\n"
     ]
    }
   ],
   "source": [
    "print(X.shape)\n",
    "print(len(y))"
   ]
  },
  {
   "cell_type": "code",
   "execution_count": 64,
   "metadata": {
    "collapsed": true
   },
   "outputs": [],
   "source": [
    "from sklearn.preprocessing import StandardScaler\n",
    "ss = StandardScaler()"
   ]
  },
  {
   "cell_type": "code",
   "execution_count": 65,
   "metadata": {
    "collapsed": false
   },
   "outputs": [
    {
     "data": {
      "text/plain": [
       "array([[ 1.48810805, -1.41162128, -0.82479445, ..., -0.46597221,\n",
       "        -0.99997373,  1.55629862],\n",
       "       [ 1.83058312, -1.68804842, -1.01111849, ..., -0.79224944,\n",
       "        -0.67121524,  1.27405747],\n",
       "       [ 1.6431911 , -1.20430092, -0.45214635, ...,  0.00531711,\n",
       "        -1.16435297,  1.63469894],\n",
       "       ..., \n",
       "       [-0.28888526,  0.79979587,  0.47947388, ...,  1.09290786,\n",
       "        -0.58902562, -0.4821097 ],\n",
       "       [-0.63782213,  0.93800944,  0.47947388, ...,  1.60045021,\n",
       "        -0.46574119, -0.62323028],\n",
       "       [-1.12891846,  1.21443658,  0.66579793, ...,  1.52794416,\n",
       "        -0.506836  , -0.60755021]])"
      ]
     },
     "execution_count": 65,
     "metadata": {},
     "output_type": "execute_result"
    }
   ],
   "source": [
    "ss.fit_transform(X)"
   ]
  },
  {
   "cell_type": "code",
   "execution_count": 44,
   "metadata": {
    "collapsed": false
   },
   "outputs": [],
   "source": [
    "from sklearn.linear_model import LogisticRegression"
   ]
  },
  {
   "cell_type": "code",
   "execution_count": 66,
   "metadata": {
    "collapsed": true
   },
   "outputs": [],
   "source": [
    "# Lasso\n",
    "lr = LogisticRegression(penalty='l1', C=0.1)"
   ]
  },
  {
   "cell_type": "code",
   "execution_count": 67,
   "metadata": {
    "collapsed": false
   },
   "outputs": [
    {
     "data": {
      "text/plain": [
       "LogisticRegression(C=0.1, class_weight=None, dual=False, fit_intercept=True,\n",
       "          intercept_scaling=1, max_iter=100, multi_class='ovr', n_jobs=1,\n",
       "          penalty='l1', random_state=None, solver='liblinear', tol=0.0001,\n",
       "          verbose=0, warm_start=False)"
      ]
     },
     "execution_count": 67,
     "metadata": {},
     "output_type": "execute_result"
    }
   ],
   "source": [
    "lr.fit(X, y)"
   ]
  },
  {
   "cell_type": "code",
   "execution_count": 68,
   "metadata": {
    "collapsed": false
   },
   "outputs": [
    {
     "name": "stdout",
     "output_type": "stream",
     "text": [
      "[[ 0.          0.          0.          0.          0.01855215 -0.07013124\n",
      "   0.          0.         -0.06832304 -0.06673282  0.          0.          0.\n",
      "   0.07857005  0.          0.         -0.18290081  0.        ]\n",
      " [ 0.08566222  0.          0.          0.         -0.07637393  0.          0.\n",
      "   0.09937515  0.          0.0354839   0.          0.         -0.02897532\n",
      "  -0.03596799  0.          0.          0.          0.09657576]\n",
      " [-0.08397595  0.          0.          0.          0.01792847  0.09503216\n",
      "   0.         -0.07181467  0.05563856  0.03586985 -0.03197745  0.\n",
      "  -0.04206756  0.          0.         -0.03607899  0.         -0.07386519]]\n"
     ]
    }
   ],
   "source": [
    "print(lr.coef_)"
   ]
  },
  {
   "cell_type": "code",
   "execution_count": 69,
   "metadata": {
    "collapsed": false
   },
   "outputs": [
    {
     "data": {
      "text/plain": [
       "array([ 0.        ,  0.08566222, -0.08397595])"
      ]
     },
     "execution_count": 69,
     "metadata": {},
     "output_type": "execute_result"
    }
   ],
   "source": [
    "lr.coef_[:,0]"
   ]
  },
  {
   "cell_type": "code",
   "execution_count": 70,
   "metadata": {
    "collapsed": false
   },
   "outputs": [
    {
     "data": {
      "text/plain": [
       "Index(['Repro_Contra_Pct', 'Repro_TotalFertility_Rate', 'Repro_NChildren_Mean',\n",
       "       'Repro_NChildrenSurv_Mean', 'Repro_Fertility_Teen_Rate',\n",
       "       'Repro_Birth_Rate', 'Repro_CompletedFertility_Mean',\n",
       "       'Repro_BirthSkilled_Pct', 'Vax_Tetanus_ANC_Pct', 'Vax_DPT3_Pct',\n",
       "       'Micro_Diarr_Child5_Pct', 'Micro_CoughTachypnea_Pct',\n",
       "       'Mortality_Child_Rate', 'Mortality_Child5_Rate1000Brth',\n",
       "       'Mortality_Neonate_Rate1000Brth', 'Mortality_Infant_Rate1000Brth',\n",
       "       'Anthro_BMI_F_Mean', 'Anthro_Ht145_F_Pct'],\n",
       "      dtype='object')"
      ]
     },
     "execution_count": 70,
     "metadata": {},
     "output_type": "execute_result"
    }
   ],
   "source": [
    "df_merged.columns[:-2]"
   ]
  },
  {
   "cell_type": "code",
   "execution_count": 72,
   "metadata": {
    "collapsed": true
   },
   "outputs": [],
   "source": [
    "import math\n",
    "from pandas import DataFrame\n",
    "from pandas import Series"
   ]
  },
  {
   "cell_type": "code",
   "execution_count": 74,
   "metadata": {
    "collapsed": false
   },
   "outputs": [
    {
     "name": "stderr",
     "output_type": "stream",
     "text": [
      "/Users/ericwu/Applications/miniconda3/envs/lisbon3/lib/python3.5/site-packages/ipykernel/__main__.py:5: FutureWarning: sort(columns=....) is deprecated, use sort_values(by=.....)\n"
     ]
    },
    {
     "data": {
      "text/html": [
       "<div>\n",
       "<table border=\"1\" class=\"dataframe\">\n",
       "  <thead>\n",
       "    <tr style=\"text-align: right;\">\n",
       "      <th></th>\n",
       "      <th>probability</th>\n",
       "      <th>feature</th>\n",
       "    </tr>\n",
       "  </thead>\n",
       "  <tbody>\n",
       "    <tr>\n",
       "      <th>16</th>\n",
       "      <td>0.182901</td>\n",
       "      <td>Anthro_BMI_F_Mean</td>\n",
       "    </tr>\n",
       "    <tr>\n",
       "      <th>13</th>\n",
       "      <td>0.078570</td>\n",
       "      <td>Mortality_Child5_Rate1000Brth</td>\n",
       "    </tr>\n",
       "    <tr>\n",
       "      <th>5</th>\n",
       "      <td>0.070131</td>\n",
       "      <td>Repro_Birth_Rate</td>\n",
       "    </tr>\n",
       "    <tr>\n",
       "      <th>8</th>\n",
       "      <td>0.068323</td>\n",
       "      <td>Vax_Tetanus_ANC_Pct</td>\n",
       "    </tr>\n",
       "    <tr>\n",
       "      <th>9</th>\n",
       "      <td>0.066733</td>\n",
       "      <td>Vax_DPT3_Pct</td>\n",
       "    </tr>\n",
       "    <tr>\n",
       "      <th>4</th>\n",
       "      <td>0.018552</td>\n",
       "      <td>Repro_Fertility_Teen_Rate</td>\n",
       "    </tr>\n",
       "    <tr>\n",
       "      <th>11</th>\n",
       "      <td>0.000000</td>\n",
       "      <td>Micro_CoughTachypnea_Pct</td>\n",
       "    </tr>\n",
       "    <tr>\n",
       "      <th>15</th>\n",
       "      <td>0.000000</td>\n",
       "      <td>Mortality_Infant_Rate1000Brth</td>\n",
       "    </tr>\n",
       "    <tr>\n",
       "      <th>14</th>\n",
       "      <td>0.000000</td>\n",
       "      <td>Mortality_Neonate_Rate1000Brth</td>\n",
       "    </tr>\n",
       "    <tr>\n",
       "      <th>12</th>\n",
       "      <td>0.000000</td>\n",
       "      <td>Mortality_Child_Rate</td>\n",
       "    </tr>\n",
       "    <tr>\n",
       "      <th>0</th>\n",
       "      <td>0.000000</td>\n",
       "      <td>Repro_Contra_Pct</td>\n",
       "    </tr>\n",
       "    <tr>\n",
       "      <th>10</th>\n",
       "      <td>0.000000</td>\n",
       "      <td>Micro_Diarr_Child5_Pct</td>\n",
       "    </tr>\n",
       "    <tr>\n",
       "      <th>1</th>\n",
       "      <td>0.000000</td>\n",
       "      <td>Repro_TotalFertility_Rate</td>\n",
       "    </tr>\n",
       "    <tr>\n",
       "      <th>7</th>\n",
       "      <td>0.000000</td>\n",
       "      <td>Repro_BirthSkilled_Pct</td>\n",
       "    </tr>\n",
       "    <tr>\n",
       "      <th>6</th>\n",
       "      <td>0.000000</td>\n",
       "      <td>Repro_CompletedFertility_Mean</td>\n",
       "    </tr>\n",
       "    <tr>\n",
       "      <th>3</th>\n",
       "      <td>0.000000</td>\n",
       "      <td>Repro_NChildrenSurv_Mean</td>\n",
       "    </tr>\n",
       "    <tr>\n",
       "      <th>2</th>\n",
       "      <td>0.000000</td>\n",
       "      <td>Repro_NChildren_Mean</td>\n",
       "    </tr>\n",
       "    <tr>\n",
       "      <th>17</th>\n",
       "      <td>0.000000</td>\n",
       "      <td>Anthro_Ht145_F_Pct</td>\n",
       "    </tr>\n",
       "  </tbody>\n",
       "</table>\n",
       "</div>"
      ],
      "text/plain": [
       "    probability                         feature\n",
       "16     0.182901               Anthro_BMI_F_Mean\n",
       "13     0.078570   Mortality_Child5_Rate1000Brth\n",
       "5      0.070131                Repro_Birth_Rate\n",
       "8      0.068323             Vax_Tetanus_ANC_Pct\n",
       "9      0.066733                    Vax_DPT3_Pct\n",
       "4      0.018552       Repro_Fertility_Teen_Rate\n",
       "11     0.000000        Micro_CoughTachypnea_Pct\n",
       "15     0.000000   Mortality_Infant_Rate1000Brth\n",
       "14     0.000000  Mortality_Neonate_Rate1000Brth\n",
       "12     0.000000            Mortality_Child_Rate\n",
       "0      0.000000                Repro_Contra_Pct\n",
       "10     0.000000          Micro_Diarr_Child5_Pct\n",
       "1      0.000000       Repro_TotalFertility_Rate\n",
       "7      0.000000          Repro_BirthSkilled_Pct\n",
       "6      0.000000   Repro_CompletedFertility_Mean\n",
       "3      0.000000        Repro_NChildrenSurv_Mean\n",
       "2      0.000000            Repro_NChildren_Mean\n",
       "17     0.000000              Anthro_Ht145_F_Pct"
      ]
     },
     "execution_count": 74,
     "metadata": {},
     "output_type": "execute_result"
    }
   ],
   "source": [
    "cluster0 = DataFrame()\n",
    "cluster0['probability'] = Series(lr.coef_[0])\n",
    "cluster0['probability'] = cluster0['probability'].apply(lambda x: math.fabs(x))\n",
    "cluster0['feature'] = Series(df_merged.columns[:-2].tolist())\n",
    "cluster0.sort('probability', ascending=False)"
   ]
  },
  {
   "cell_type": "code",
   "execution_count": 75,
   "metadata": {
    "collapsed": false
   },
   "outputs": [
    {
     "name": "stderr",
     "output_type": "stream",
     "text": [
      "/Users/ericwu/Applications/miniconda3/envs/lisbon3/lib/python3.5/site-packages/ipykernel/__main__.py:5: FutureWarning: sort(columns=....) is deprecated, use sort_values(by=.....)\n"
     ]
    },
    {
     "data": {
      "text/html": [
       "<div>\n",
       "<table border=\"1\" class=\"dataframe\">\n",
       "  <thead>\n",
       "    <tr style=\"text-align: right;\">\n",
       "      <th></th>\n",
       "      <th>probability</th>\n",
       "      <th>feature</th>\n",
       "    </tr>\n",
       "  </thead>\n",
       "  <tbody>\n",
       "    <tr>\n",
       "      <th>16</th>\n",
       "      <td>0.182901</td>\n",
       "      <td>Anthro_BMI_F_Mean</td>\n",
       "    </tr>\n",
       "    <tr>\n",
       "      <th>13</th>\n",
       "      <td>0.078570</td>\n",
       "      <td>Mortality_Child5_Rate1000Brth</td>\n",
       "    </tr>\n",
       "    <tr>\n",
       "      <th>5</th>\n",
       "      <td>0.070131</td>\n",
       "      <td>Repro_Birth_Rate</td>\n",
       "    </tr>\n",
       "    <tr>\n",
       "      <th>8</th>\n",
       "      <td>0.068323</td>\n",
       "      <td>Vax_Tetanus_ANC_Pct</td>\n",
       "    </tr>\n",
       "    <tr>\n",
       "      <th>9</th>\n",
       "      <td>0.066733</td>\n",
       "      <td>Vax_DPT3_Pct</td>\n",
       "    </tr>\n",
       "    <tr>\n",
       "      <th>4</th>\n",
       "      <td>0.018552</td>\n",
       "      <td>Repro_Fertility_Teen_Rate</td>\n",
       "    </tr>\n",
       "    <tr>\n",
       "      <th>11</th>\n",
       "      <td>0.000000</td>\n",
       "      <td>Micro_CoughTachypnea_Pct</td>\n",
       "    </tr>\n",
       "    <tr>\n",
       "      <th>15</th>\n",
       "      <td>0.000000</td>\n",
       "      <td>Mortality_Infant_Rate1000Brth</td>\n",
       "    </tr>\n",
       "    <tr>\n",
       "      <th>14</th>\n",
       "      <td>0.000000</td>\n",
       "      <td>Mortality_Neonate_Rate1000Brth</td>\n",
       "    </tr>\n",
       "    <tr>\n",
       "      <th>12</th>\n",
       "      <td>0.000000</td>\n",
       "      <td>Mortality_Child_Rate</td>\n",
       "    </tr>\n",
       "    <tr>\n",
       "      <th>0</th>\n",
       "      <td>0.000000</td>\n",
       "      <td>Repro_Contra_Pct</td>\n",
       "    </tr>\n",
       "    <tr>\n",
       "      <th>10</th>\n",
       "      <td>0.000000</td>\n",
       "      <td>Micro_Diarr_Child5_Pct</td>\n",
       "    </tr>\n",
       "    <tr>\n",
       "      <th>1</th>\n",
       "      <td>0.000000</td>\n",
       "      <td>Repro_TotalFertility_Rate</td>\n",
       "    </tr>\n",
       "    <tr>\n",
       "      <th>7</th>\n",
       "      <td>0.000000</td>\n",
       "      <td>Repro_BirthSkilled_Pct</td>\n",
       "    </tr>\n",
       "    <tr>\n",
       "      <th>6</th>\n",
       "      <td>0.000000</td>\n",
       "      <td>Repro_CompletedFertility_Mean</td>\n",
       "    </tr>\n",
       "    <tr>\n",
       "      <th>3</th>\n",
       "      <td>0.000000</td>\n",
       "      <td>Repro_NChildrenSurv_Mean</td>\n",
       "    </tr>\n",
       "    <tr>\n",
       "      <th>2</th>\n",
       "      <td>0.000000</td>\n",
       "      <td>Repro_NChildren_Mean</td>\n",
       "    </tr>\n",
       "    <tr>\n",
       "      <th>17</th>\n",
       "      <td>0.000000</td>\n",
       "      <td>Anthro_Ht145_F_Pct</td>\n",
       "    </tr>\n",
       "  </tbody>\n",
       "</table>\n",
       "</div>"
      ],
      "text/plain": [
       "    probability                         feature\n",
       "16     0.182901               Anthro_BMI_F_Mean\n",
       "13     0.078570   Mortality_Child5_Rate1000Brth\n",
       "5      0.070131                Repro_Birth_Rate\n",
       "8      0.068323             Vax_Tetanus_ANC_Pct\n",
       "9      0.066733                    Vax_DPT3_Pct\n",
       "4      0.018552       Repro_Fertility_Teen_Rate\n",
       "11     0.000000        Micro_CoughTachypnea_Pct\n",
       "15     0.000000   Mortality_Infant_Rate1000Brth\n",
       "14     0.000000  Mortality_Neonate_Rate1000Brth\n",
       "12     0.000000            Mortality_Child_Rate\n",
       "0      0.000000                Repro_Contra_Pct\n",
       "10     0.000000          Micro_Diarr_Child5_Pct\n",
       "1      0.000000       Repro_TotalFertility_Rate\n",
       "7      0.000000          Repro_BirthSkilled_Pct\n",
       "6      0.000000   Repro_CompletedFertility_Mean\n",
       "3      0.000000        Repro_NChildrenSurv_Mean\n",
       "2      0.000000            Repro_NChildren_Mean\n",
       "17     0.000000              Anthro_Ht145_F_Pct"
      ]
     },
     "execution_count": 75,
     "metadata": {},
     "output_type": "execute_result"
    }
   ],
   "source": [
    "cluster1 = DataFrame()\n",
    "cluster1['probability'] = Series(lr.coef_[1])\n",
    "cluster1['probability'] = cluster0['probability'].apply(lambda x: math.fabs(x))\n",
    "cluster1['feature'] = Series(df_merged.columns[:-2].tolist())\n",
    "cluster1.sort('probability', ascending=False)"
   ]
  },
  {
   "cell_type": "code",
   "execution_count": 76,
   "metadata": {
    "collapsed": false
   },
   "outputs": [
    {
     "name": "stderr",
     "output_type": "stream",
     "text": [
      "/Users/ericwu/Applications/miniconda3/envs/lisbon3/lib/python3.5/site-packages/ipykernel/__main__.py:5: FutureWarning: sort(columns=....) is deprecated, use sort_values(by=.....)\n"
     ]
    },
    {
     "data": {
      "text/html": [
       "<div>\n",
       "<table border=\"1\" class=\"dataframe\">\n",
       "  <thead>\n",
       "    <tr style=\"text-align: right;\">\n",
       "      <th></th>\n",
       "      <th>probability</th>\n",
       "      <th>feature</th>\n",
       "    </tr>\n",
       "  </thead>\n",
       "  <tbody>\n",
       "    <tr>\n",
       "      <th>16</th>\n",
       "      <td>0.182901</td>\n",
       "      <td>Anthro_BMI_F_Mean</td>\n",
       "    </tr>\n",
       "    <tr>\n",
       "      <th>13</th>\n",
       "      <td>0.078570</td>\n",
       "      <td>Mortality_Child5_Rate1000Brth</td>\n",
       "    </tr>\n",
       "    <tr>\n",
       "      <th>5</th>\n",
       "      <td>0.070131</td>\n",
       "      <td>Repro_Birth_Rate</td>\n",
       "    </tr>\n",
       "    <tr>\n",
       "      <th>8</th>\n",
       "      <td>0.068323</td>\n",
       "      <td>Vax_Tetanus_ANC_Pct</td>\n",
       "    </tr>\n",
       "    <tr>\n",
       "      <th>9</th>\n",
       "      <td>0.066733</td>\n",
       "      <td>Vax_DPT3_Pct</td>\n",
       "    </tr>\n",
       "    <tr>\n",
       "      <th>4</th>\n",
       "      <td>0.018552</td>\n",
       "      <td>Repro_Fertility_Teen_Rate</td>\n",
       "    </tr>\n",
       "    <tr>\n",
       "      <th>11</th>\n",
       "      <td>0.000000</td>\n",
       "      <td>Micro_CoughTachypnea_Pct</td>\n",
       "    </tr>\n",
       "    <tr>\n",
       "      <th>15</th>\n",
       "      <td>0.000000</td>\n",
       "      <td>Mortality_Infant_Rate1000Brth</td>\n",
       "    </tr>\n",
       "    <tr>\n",
       "      <th>14</th>\n",
       "      <td>0.000000</td>\n",
       "      <td>Mortality_Neonate_Rate1000Brth</td>\n",
       "    </tr>\n",
       "    <tr>\n",
       "      <th>12</th>\n",
       "      <td>0.000000</td>\n",
       "      <td>Mortality_Child_Rate</td>\n",
       "    </tr>\n",
       "    <tr>\n",
       "      <th>0</th>\n",
       "      <td>0.000000</td>\n",
       "      <td>Repro_Contra_Pct</td>\n",
       "    </tr>\n",
       "    <tr>\n",
       "      <th>10</th>\n",
       "      <td>0.000000</td>\n",
       "      <td>Micro_Diarr_Child5_Pct</td>\n",
       "    </tr>\n",
       "    <tr>\n",
       "      <th>1</th>\n",
       "      <td>0.000000</td>\n",
       "      <td>Repro_TotalFertility_Rate</td>\n",
       "    </tr>\n",
       "    <tr>\n",
       "      <th>7</th>\n",
       "      <td>0.000000</td>\n",
       "      <td>Repro_BirthSkilled_Pct</td>\n",
       "    </tr>\n",
       "    <tr>\n",
       "      <th>6</th>\n",
       "      <td>0.000000</td>\n",
       "      <td>Repro_CompletedFertility_Mean</td>\n",
       "    </tr>\n",
       "    <tr>\n",
       "      <th>3</th>\n",
       "      <td>0.000000</td>\n",
       "      <td>Repro_NChildrenSurv_Mean</td>\n",
       "    </tr>\n",
       "    <tr>\n",
       "      <th>2</th>\n",
       "      <td>0.000000</td>\n",
       "      <td>Repro_NChildren_Mean</td>\n",
       "    </tr>\n",
       "    <tr>\n",
       "      <th>17</th>\n",
       "      <td>0.000000</td>\n",
       "      <td>Anthro_Ht145_F_Pct</td>\n",
       "    </tr>\n",
       "  </tbody>\n",
       "</table>\n",
       "</div>"
      ],
      "text/plain": [
       "    probability                         feature\n",
       "16     0.182901               Anthro_BMI_F_Mean\n",
       "13     0.078570   Mortality_Child5_Rate1000Brth\n",
       "5      0.070131                Repro_Birth_Rate\n",
       "8      0.068323             Vax_Tetanus_ANC_Pct\n",
       "9      0.066733                    Vax_DPT3_Pct\n",
       "4      0.018552       Repro_Fertility_Teen_Rate\n",
       "11     0.000000        Micro_CoughTachypnea_Pct\n",
       "15     0.000000   Mortality_Infant_Rate1000Brth\n",
       "14     0.000000  Mortality_Neonate_Rate1000Brth\n",
       "12     0.000000            Mortality_Child_Rate\n",
       "0      0.000000                Repro_Contra_Pct\n",
       "10     0.000000          Micro_Diarr_Child5_Pct\n",
       "1      0.000000       Repro_TotalFertility_Rate\n",
       "7      0.000000          Repro_BirthSkilled_Pct\n",
       "6      0.000000   Repro_CompletedFertility_Mean\n",
       "3      0.000000        Repro_NChildrenSurv_Mean\n",
       "2      0.000000            Repro_NChildren_Mean\n",
       "17     0.000000              Anthro_Ht145_F_Pct"
      ]
     },
     "execution_count": 76,
     "metadata": {},
     "output_type": "execute_result"
    }
   ],
   "source": [
    "cluster2 = DataFrame()\n",
    "cluster2['probability'] = Series(lr.coef_[2])\n",
    "cluster2['probability'] = cluster0['probability'].apply(lambda x: math.fabs(x))\n",
    "cluster2['feature'] = Series(df_merged.columns[:-2].tolist())\n",
    "cluster2.sort('probability', ascending=False)"
   ]
  },
  {
   "cell_type": "code",
   "execution_count": 77,
   "metadata": {
    "collapsed": true
   },
   "outputs": [],
   "source": [
    "cluster0.to_csv('data/75_19_3_cluster_0_importance.csv', index=False)\n",
    "cluster1.to_csv('data/75_19_3_cluster_1_importance.csv', index=False)\n",
    "cluster2.to_csv('data/75_19_3_cluster_2_importance.csv', index=False)"
   ]
  },
  {
   "cell_type": "code",
   "execution_count": 78,
   "metadata": {
    "collapsed": false
   },
   "outputs": [
    {
     "name": "stdout",
     "output_type": "stream",
     "text": [
      "Welcome, Eric Yi Wu!\n",
      "\n"
     ]
    }
   ],
   "source": [
    "import synapseclient\n",
    "from synapseclient import File\n",
    "\n",
    "syn = synapseclient.Synapse()\n",
    "syn.login()\n",
    "folder = syn.get('syn6135634')"
   ]
  },
  {
   "cell_type": "code",
   "execution_count": 79,
   "metadata": {
    "collapsed": false
   },
   "outputs": [
    {
     "name": "stdout",
     "output_type": "stream",
     "text": [
      "\n",
      "##################################################\n",
      " Uploading file to Synapse storage \n",
      "##################################################\n",
      "Uploading [####################]100.00%     604.0bytes/604.0bytes 75_19_3_cluster_0_importance.csv Done...\n",
      "    \n",
      "##################################################\n",
      " Uploading file to Synapse storage \n",
      "##################################################\n",
      "Uploading [####################]100.00%     604.0bytes/604.0bytes 75_19_3_cluster_1_importance.csv Done...\n",
      "    \n",
      "##################################################\n",
      " Uploading file to Synapse storage \n",
      "##################################################\n",
      "Uploading [####################]100.00%     604.0bytes/604.0bytes 75_19_3_cluster_2_importance.csv Done...\n",
      "    "
     ]
    },
    {
     "data": {
      "text/plain": [
       "File(externalURL=None, files=['75_19_3_cluster_2_importance.csv'], id='syn6135878', modifiedOn='2016-06-07T13:46:22.068Z', createdBy='313799', modifiedBy='313799', versionNumber=1, versions='/repo/v1/entity/syn6135878/version', createdOn='2016-06-07T13:46:22.068Z', entityType='org.sagebionetworks.repo.model.FileEntity', accessControlList='/repo/v1/entity/syn6135878/acl', contentType=None, etag='db478fe0-5a5c-4097-8499-cce941501455', concreteType='org.sagebionetworks.repo.model.FileEntity', parentId='syn6135634', versionLabel='1', name='75_19_3_cluster_2_importance.csv', dataFileHandleId='9405284', md5=None, path='data/75_19_3_cluster_2_importance.csv', uri='/repo/v1/entity/syn6135878', fileSize=None, cacheDir='data', annotations='/repo/v1/entity/syn6135878/annotations', synapseStore=True, versionUrl='/repo/v1/entity/syn6135878/version/1')"
      ]
     },
     "execution_count": 79,
     "metadata": {},
     "output_type": "execute_result"
    }
   ],
   "source": [
    "syn.store(File('data/75_19_3_cluster_0_importance.csv', parent=folder))\n",
    "syn.store(File('data/75_19_3_cluster_1_importance.csv', parent=folder))\n",
    "syn.store(File('data/75_19_3_cluster_2_importance.csv', parent=folder))"
   ]
  },
  {
   "cell_type": "code",
   "execution_count": 86,
   "metadata": {
    "collapsed": true
   },
   "outputs": [],
   "source": [
    "from sklearn.ensemble import RandomForestClassifier\n",
    "rfc = RandomForestClassifier(n_estimators=1000) "
   ]
  },
  {
   "cell_type": "code",
   "execution_count": 87,
   "metadata": {
    "collapsed": false
   },
   "outputs": [
    {
     "data": {
      "text/plain": [
       "RandomForestClassifier(bootstrap=True, class_weight=None, criterion='gini',\n",
       "            max_depth=None, max_features='auto', max_leaf_nodes=None,\n",
       "            min_samples_leaf=1, min_samples_split=2,\n",
       "            min_weight_fraction_leaf=0.0, n_estimators=1000, n_jobs=1,\n",
       "            oob_score=False, random_state=None, verbose=0,\n",
       "            warm_start=False)"
      ]
     },
     "execution_count": 87,
     "metadata": {},
     "output_type": "execute_result"
    }
   ],
   "source": [
    "rfc.fit(X, y)"
   ]
  },
  {
   "cell_type": "code",
   "execution_count": 88,
   "metadata": {
    "collapsed": false
   },
   "outputs": [
    {
     "data": {
      "text/plain": [
       "array([ 0.02253442,  0.05005358,  0.09623236,  0.04219232,  0.10072636,\n",
       "        0.04096524,  0.03344341,  0.02545286,  0.01351471,  0.01882175,\n",
       "        0.02328166,  0.01549598,  0.1351388 ,  0.18733272,  0.03513469,\n",
       "        0.10088425,  0.0461126 ,  0.01268229])"
      ]
     },
     "execution_count": 88,
     "metadata": {},
     "output_type": "execute_result"
    }
   ],
   "source": [
    "rfc.feature_importances_"
   ]
  },
  {
   "cell_type": "code",
   "execution_count": 89,
   "metadata": {
    "collapsed": false
   },
   "outputs": [
    {
     "name": "stderr",
     "output_type": "stream",
     "text": [
      "/Users/ericwu/Applications/miniconda3/envs/lisbon3/lib/python3.5/site-packages/ipykernel/__main__.py:4: FutureWarning: sort(columns=....) is deprecated, use sort_values(by=.....)\n"
     ]
    },
    {
     "data": {
      "text/html": [
       "<div>\n",
       "<table border=\"1\" class=\"dataframe\">\n",
       "  <thead>\n",
       "    <tr style=\"text-align: right;\">\n",
       "      <th></th>\n",
       "      <th>score</th>\n",
       "      <th>feature</th>\n",
       "    </tr>\n",
       "  </thead>\n",
       "  <tbody>\n",
       "    <tr>\n",
       "      <th>13</th>\n",
       "      <td>0.187333</td>\n",
       "      <td>Mortality_Child5_Rate1000Brth</td>\n",
       "    </tr>\n",
       "    <tr>\n",
       "      <th>12</th>\n",
       "      <td>0.135139</td>\n",
       "      <td>Mortality_Child_Rate</td>\n",
       "    </tr>\n",
       "    <tr>\n",
       "      <th>15</th>\n",
       "      <td>0.100884</td>\n",
       "      <td>Mortality_Infant_Rate1000Brth</td>\n",
       "    </tr>\n",
       "    <tr>\n",
       "      <th>4</th>\n",
       "      <td>0.100726</td>\n",
       "      <td>Repro_Fertility_Teen_Rate</td>\n",
       "    </tr>\n",
       "    <tr>\n",
       "      <th>2</th>\n",
       "      <td>0.096232</td>\n",
       "      <td>Repro_NChildren_Mean</td>\n",
       "    </tr>\n",
       "    <tr>\n",
       "      <th>1</th>\n",
       "      <td>0.050054</td>\n",
       "      <td>Repro_TotalFertility_Rate</td>\n",
       "    </tr>\n",
       "    <tr>\n",
       "      <th>16</th>\n",
       "      <td>0.046113</td>\n",
       "      <td>Anthro_BMI_F_Mean</td>\n",
       "    </tr>\n",
       "    <tr>\n",
       "      <th>3</th>\n",
       "      <td>0.042192</td>\n",
       "      <td>Repro_NChildrenSurv_Mean</td>\n",
       "    </tr>\n",
       "    <tr>\n",
       "      <th>5</th>\n",
       "      <td>0.040965</td>\n",
       "      <td>Repro_Birth_Rate</td>\n",
       "    </tr>\n",
       "    <tr>\n",
       "      <th>14</th>\n",
       "      <td>0.035135</td>\n",
       "      <td>Mortality_Neonate_Rate1000Brth</td>\n",
       "    </tr>\n",
       "    <tr>\n",
       "      <th>6</th>\n",
       "      <td>0.033443</td>\n",
       "      <td>Repro_CompletedFertility_Mean</td>\n",
       "    </tr>\n",
       "    <tr>\n",
       "      <th>7</th>\n",
       "      <td>0.025453</td>\n",
       "      <td>Repro_BirthSkilled_Pct</td>\n",
       "    </tr>\n",
       "    <tr>\n",
       "      <th>10</th>\n",
       "      <td>0.023282</td>\n",
       "      <td>Micro_Diarr_Child5_Pct</td>\n",
       "    </tr>\n",
       "    <tr>\n",
       "      <th>0</th>\n",
       "      <td>0.022534</td>\n",
       "      <td>Repro_Contra_Pct</td>\n",
       "    </tr>\n",
       "    <tr>\n",
       "      <th>9</th>\n",
       "      <td>0.018822</td>\n",
       "      <td>Vax_DPT3_Pct</td>\n",
       "    </tr>\n",
       "    <tr>\n",
       "      <th>11</th>\n",
       "      <td>0.015496</td>\n",
       "      <td>Micro_CoughTachypnea_Pct</td>\n",
       "    </tr>\n",
       "    <tr>\n",
       "      <th>8</th>\n",
       "      <td>0.013515</td>\n",
       "      <td>Vax_Tetanus_ANC_Pct</td>\n",
       "    </tr>\n",
       "    <tr>\n",
       "      <th>17</th>\n",
       "      <td>0.012682</td>\n",
       "      <td>Anthro_Ht145_F_Pct</td>\n",
       "    </tr>\n",
       "  </tbody>\n",
       "</table>\n",
       "</div>"
      ],
      "text/plain": [
       "       score                         feature\n",
       "13  0.187333   Mortality_Child5_Rate1000Brth\n",
       "12  0.135139            Mortality_Child_Rate\n",
       "15  0.100884   Mortality_Infant_Rate1000Brth\n",
       "4   0.100726       Repro_Fertility_Teen_Rate\n",
       "2   0.096232            Repro_NChildren_Mean\n",
       "1   0.050054       Repro_TotalFertility_Rate\n",
       "16  0.046113               Anthro_BMI_F_Mean\n",
       "3   0.042192        Repro_NChildrenSurv_Mean\n",
       "5   0.040965                Repro_Birth_Rate\n",
       "14  0.035135  Mortality_Neonate_Rate1000Brth\n",
       "6   0.033443   Repro_CompletedFertility_Mean\n",
       "7   0.025453          Repro_BirthSkilled_Pct\n",
       "10  0.023282          Micro_Diarr_Child5_Pct\n",
       "0   0.022534                Repro_Contra_Pct\n",
       "9   0.018822                    Vax_DPT3_Pct\n",
       "11  0.015496        Micro_CoughTachypnea_Pct\n",
       "8   0.013515             Vax_Tetanus_ANC_Pct\n",
       "17  0.012682              Anthro_Ht145_F_Pct"
      ]
     },
     "execution_count": 89,
     "metadata": {},
     "output_type": "execute_result"
    }
   ],
   "source": [
    "importances = DataFrame()\n",
    "importances['score'] = Series(rfc.feature_importances_)\n",
    "importances['feature'] = Series(df_merged.columns[:-2].tolist())\n",
    "importances.sort('score', ascending=False)"
   ]
  },
  {
   "cell_type": "code",
   "execution_count": 90,
   "metadata": {
    "collapsed": false
   },
   "outputs": [
    {
     "name": "stdout",
     "output_type": "stream",
     "text": [
      "\n",
      "##################################################\n",
      " Uploading file to Synapse storage \n",
      "##################################################\n",
      "Uploading [####################]100.00%     796.0bytes/796.0bytes 75_19_3_rf_importance.csv Done...\n",
      "    "
     ]
    },
    {
     "data": {
      "text/plain": [
       "File(externalURL=None, path='data/75_19_3_rf_importance.csv', id='syn6135881', createdBy='313799', modifiedBy='313799', versionNumber=1, modifiedOn='2016-06-07T13:51:48.674Z', uri='/repo/v1/entity/syn6135881', synapseStore=True, files=['75_19_3_rf_importance.csv'], annotations='/repo/v1/entity/syn6135881/annotations', entityType='org.sagebionetworks.repo.model.FileEntity', contentType=None, versions='/repo/v1/entity/syn6135881/version', createdOn='2016-06-07T13:51:48.674Z', accessControlList='/repo/v1/entity/syn6135881/acl', concreteType='org.sagebionetworks.repo.model.FileEntity', parentId='syn6135634', versionLabel='1', dataFileHandleId='9405294', md5=None, fileSize=None, etag='77528304-d833-4785-adb1-e1d53b13ef79', versionUrl='/repo/v1/entity/syn6135881/version/1', cacheDir='data', name='75_19_3_rf_importance.csv')"
      ]
     },
     "execution_count": 90,
     "metadata": {},
     "output_type": "execute_result"
    }
   ],
   "source": [
    "importances.to_csv('data/75_19_3_rf_importance.csv', index=False)\n",
    "syn.store(File('data/75_19_3_rf_importance.csv', parent=folder))"
   ]
  },
  {
   "cell_type": "code",
   "execution_count": null,
   "metadata": {
    "collapsed": true
   },
   "outputs": [],
   "source": []
  }
 ],
 "metadata": {
  "kernelspec": {
   "display_name": "Python 3",
   "language": "python",
   "name": "python3"
  },
  "language_info": {
   "codemirror_mode": {
    "name": "ipython",
    "version": 3
   },
   "file_extension": ".py",
   "mimetype": "text/x-python",
   "name": "python",
   "nbconvert_exporter": "python",
   "pygments_lexer": "ipython3",
   "version": "3.5.1"
  }
 },
 "nbformat": 4,
 "nbformat_minor": 0
}
